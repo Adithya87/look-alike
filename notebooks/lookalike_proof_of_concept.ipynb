{
 "cells": [
  {
   "cell_type": "code",
   "execution_count": null,
   "id": "technical-island",
   "metadata": {},
   "outputs": [],
   "source": [
    "import os\n",
    "import sys\n",
    "from pathlib import Path\n",
    "\n",
    "# patch python path with root repo directory\n",
    "sys.path.append(str(Path(os.getcwd()).parent))"
   ]
  },
  {
   "cell_type": "code",
   "execution_count": null,
   "id": "ready-evolution",
   "metadata": {},
   "outputs": [],
   "source": [
    "from PIL import Image\n",
    "import numpy as np\n",
    "\n",
    "from src.index.storage import VectorIndex\n",
    "from src.image.storage import LocalImageStorage\n",
    "from src.index.builder import FaceNetPyTorchImageVectoriser"
   ]
  },
  {
   "cell_type": "code",
   "execution_count": null,
   "id": "sudden-assignment",
   "metadata": {},
   "outputs": [],
   "source": [
    "storage_path = \"/Users/hayden.jeune/.celebstore\"\n",
    "image_storage = LocalImageStorage(storage_path + \"/images\")\n",
    "index = VectorIndex(storage_path + \"/vec\")\n",
    "vectoriser = FaceNetPyTorchImageVectoriser()"
   ]
  },
  {
   "cell_type": "code",
   "execution_count": null,
   "id": "toxic-trash",
   "metadata": {},
   "outputs": [],
   "source": [
    "me = Image.open(\"data/github-profile.jpeg\").convert(\"RGB\")\n",
    "me"
   ]
  },
  {
   "cell_type": "code",
   "execution_count": null,
   "id": "local-manual",
   "metadata": {},
   "outputs": [],
   "source": [
    "me_vec = vectoriser.vectorise(me)"
   ]
  },
  {
   "cell_type": "code",
   "execution_count": null,
   "id": "photographic-latter",
   "metadata": {},
   "outputs": [],
   "source": [
    "def similarity(a: np.ndarray, b: np.ndarray) -> float:\n",
    "    # just a dot product scaled between 0 and 1 for now\n",
    "    return (np.dot(a, b) + 1) / 2"
   ]
  },
  {
   "cell_type": "code",
   "execution_count": null,
   "id": "green-product",
   "metadata": {},
   "outputs": [],
   "source": [
    "data = index._vectors\n",
    "\n",
    "def get_similarity(items) -> float:\n",
    "    vec = items[1]\n",
    "    return similarity(me_vec, vec)\n",
    "\n",
    "similarities = sorted(data.items(), key=get_similarity, reverse=True)\n",
    "name = similarities[1][0]\n",
    "img = image_storage.retrieve(name)"
   ]
  },
  {
   "cell_type": "code",
   "execution_count": null,
   "id": "engaged-answer",
   "metadata": {},
   "outputs": [],
   "source": [
    "turner = index.get(\"Sophie Turner\")\n",
    "hunt = index.get(\"Helen Hunt\")\n",
    "reynolds = index.get(\"Ryan Reynolds\")\n",
    "print(similarity(me_vec, turner))\n",
    "print(similarity(me_vec, hunt))\n",
    "print(similarity(me_vec, reynolds))"
   ]
  },
  {
   "cell_type": "code",
   "execution_count": null,
   "id": "temporal-homework",
   "metadata": {},
   "outputs": [],
   "source": [
    "print(f\"You look most like {name}!\")\n",
    "img"
   ]
  },
  {
   "cell_type": "code",
   "execution_count": null,
   "id": "thrown-handbook",
   "metadata": {},
   "outputs": [],
   "source": []
  }
 ],
 "metadata": {
  "kernelspec": {
   "display_name": ".venv",
   "language": "python",
   "name": ".venv"
  },
  "language_info": {
   "codemirror_mode": {
    "name": "ipython",
    "version": 3
   },
   "file_extension": ".py",
   "mimetype": "text/x-python",
   "name": "python",
   "nbconvert_exporter": "python",
   "pygments_lexer": "ipython3",
   "version": "3.9.2"
  }
 },
 "nbformat": 4,
 "nbformat_minor": 5
}